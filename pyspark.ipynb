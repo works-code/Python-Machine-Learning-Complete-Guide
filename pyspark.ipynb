{
 "cells": [
  {
   "cell_type": "markdown",
   "metadata": {},
   "source": [
    "## Pyspark 전처리\n",
    "- Web Ui : http://localhost:4040/"
   ]
  },
  {
   "cell_type": "code",
   "execution_count": 305,
   "metadata": {},
   "outputs": [],
   "source": [
    "import pyspark as ps\n",
    "from pyspark.sql import SparkSession\n",
    "from pyspark.sql import functions as F\n",
    "from pyspark.sql.functions import regexp_extract, regexp_replace, col,concat,lit,split, udf"
   ]
  },
  {
   "cell_type": "code",
   "execution_count": 119,
   "metadata": {},
   "outputs": [
    {
     "name": "stdout",
     "output_type": "stream",
     "text": [
      "3.0.1\n"
     ]
    }
   ],
   "source": [
    "# 해당 부분 실행시 스파크 연결 되면서 Web Ui 접속 가능\n",
    "spark = SparkSession.builder\\\n",
    "                    .master('local[*]')\\\n",
    "                    .appName('hello_world_app')\\\n",
    "                    .getOrCreate()\n",
    "\n",
    "print(spark.version)"
   ]
  },
  {
   "cell_type": "markdown",
   "metadata": {},
   "source": [
    "### 데이터 읽기"
   ]
  },
  {
   "cell_type": "code",
   "execution_count": 120,
   "metadata": {},
   "outputs": [],
   "source": [
    "artist_df = spark.read.csv('artist.csv', header=True)"
   ]
  },
  {
   "cell_type": "code",
   "execution_count": 121,
   "metadata": {},
   "outputs": [
    {
     "name": "stdout",
     "output_type": "stream",
     "text": [
      "+----------------+-------------------------------+\n",
      "|     artist_name|                    search_word|\n",
      "+----------------+-------------------------------+\n",
      "|TWICE (트와이스)|트와이스|트둥이|트 와이 스|T...|\n",
      "|            MC몽|           원숭이|MC 몽|엠씨몽||\n",
      "|      가비엔제이|                           null|\n",
      "|             109|               일공구|10구|일09|\n",
      "|     The Beatles|                 비틀즈|Beatles|\n",
      "+----------------+-------------------------------+\n",
      "only showing top 5 rows\n",
      "\n"
     ]
    }
   ],
   "source": [
    "artist_df.show(5)"
   ]
  },
  {
   "cell_type": "code",
   "execution_count": 122,
   "metadata": {},
   "outputs": [
    {
     "name": "stdout",
     "output_type": "stream",
     "text": [
      "+----------------+\n",
      "|     artist_name|\n",
      "+----------------+\n",
      "|TWICE (트와이스)|\n",
      "|            MC몽|\n",
      "|      가비엔제이|\n",
      "|             109|\n",
      "|     The Beatles|\n",
      "|              @@|\n",
      "|      몬스타엑스|\n",
      "|  태연 (TAEYEON)|\n",
      "|     테스트 (abc|\n",
      "+----------------+\n",
      "\n"
     ]
    }
   ],
   "source": [
    "# 칼럼별 읽기\n",
    "artist_df_name = artist_df.select(\"artist_name\")\n",
    "artist_df_name.show()"
   ]
  },
  {
   "cell_type": "markdown",
   "metadata": {},
   "source": [
    "###  데이터 출력"
   ]
  },
  {
   "cell_type": "code",
   "execution_count": 310,
   "metadata": {},
   "outputs": [],
   "source": [
    "# coalesce(1): 분산된 상태로 저장하지 않기 위함\n",
    "artist_df.coalesce(1).write.format(\"com.databricks.spark.csv\").option(\"header\", \"false\").save(\"output3.csv\")"
   ]
  },
  {
   "cell_type": "markdown",
   "metadata": {},
   "source": [
    "### 데이터 전처리"
   ]
  },
  {
   "cell_type": "code",
   "execution_count": 134,
   "metadata": {},
   "outputs": [
    {
     "name": "stdout",
     "output_type": "stream",
     "text": [
      "+----------------+---------+\n",
      "|     artist_name|artist_in|\n",
      "+----------------+---------+\n",
      "|TWICE (트와이스)| 트와이스|\n",
      "|            MC몽|         |\n",
      "|      가비엔제이|         |\n",
      "|             109|         |\n",
      "|     The Beatles|         |\n",
      "|              @@|         |\n",
      "|      몬스타엑스|         |\n",
      "|  태연 (TAEYEON)|  TAEYEON|\n",
      "|     테스트 (abc|         |\n",
      "+----------------+---------+\n",
      "\n"
     ]
    }
   ],
   "source": [
    "# 괄호 안에 있는 단어만 뽑아서 괄호안 단어만 수집\n",
    "df_1 = artist_df_name.withColumn('artist_in', regexp_extract('artist_name', \"\\(.+?\\)\" , 0 ))\n",
    "df_2 = df_1.withColumn('artist_in', regexp_replace('artist_in', \"\\(\",\"\"))\n",
    "df_3 = df_2.withColumn('artist_in', regexp_replace('artist_in', \"\\)\",\"\"))\n",
    "df_3.show()"
   ]
  },
  {
   "cell_type": "code",
   "execution_count": 146,
   "metadata": {},
   "outputs": [
    {
     "name": "stdout",
     "output_type": "stream",
     "text": [
      "+----------------+---------+\n",
      "|     artist_name|artist_in|\n",
      "+----------------+---------+\n",
      "|TWICE (트와이스)|    TWICE|\n",
      "|            MC몽|       MC|\n",
      "|      가비엔제이|         |\n",
      "|             109|      109|\n",
      "|     The Beatles|      The|\n",
      "|              @@|       @@|\n",
      "|      몬스타엑스|         |\n",
      "|  태연 (TAEYEON)|(TAEYEON)|\n",
      "|     테스트 (abc|     (abc|\n",
      "+----------------+---------+\n",
      "\n"
     ]
    }
   ],
   "source": [
    "# 한글과 띄어쓰기를 제외한 모든 글자\n",
    "df_1 = artist_df_name.withColumn('artist_in', regexp_extract('artist_name', \"[^ ㄱ-ㅣ가-힣]+\", 0 ))\n",
    "df_1.show()"
   ]
  },
  {
   "cell_type": "code",
   "execution_count": 158,
   "metadata": {},
   "outputs": [
    {
     "name": "stdout",
     "output_type": "stream",
     "text": [
      "+----------------+----------+\n",
      "|     artist_name| artist_in|\n",
      "+----------------+----------+\n",
      "|TWICE (트와이스)|  트와이스|\n",
      "|            MC몽|        몽|\n",
      "|      가비엔제이|가비엔제이|\n",
      "|             109|          |\n",
      "|     The Beatles|          |\n",
      "|              @@|          |\n",
      "|      몬스타엑스|몬스타엑스|\n",
      "|  태연 (TAEYEON)|      태연|\n",
      "|     테스트 (abc|    테스트|\n",
      "+----------------+----------+\n",
      "\n"
     ]
    }
   ],
   "source": [
    "# 한글이 있다면 한글만 추출\n",
    "df_1 = artist_df_name.withColumn('artist_in', regexp_extract('artist_name', \"[가-힣]+\", 0 ))\n",
    "df_1.show()"
   ]
  },
  {
   "cell_type": "code",
   "execution_count": 157,
   "metadata": {},
   "outputs": [
    {
     "name": "stdout",
     "output_type": "stream",
     "text": [
      "+----------------+----------+\n",
      "|     artist_name| artist_in|\n",
      "+----------------+----------+\n",
      "|TWICE (트와이스)|          |\n",
      "|            MC몽|          |\n",
      "|      가비엔제이|가비엔제이|\n",
      "|             109|          |\n",
      "|     The Beatles|          |\n",
      "|              @@|          |\n",
      "|      몬스타엑스|몬스타엑스|\n",
      "|  태연 (TAEYEON)|          |\n",
      "|     테스트 (abc|          |\n",
      "+----------------+----------+\n",
      "\n"
     ]
    }
   ],
   "source": [
    "# 한글로만 구성 (\\\\s 는 안에 띄어쓰기가 있어도 추출)\n",
    "df_1 = artist_df_name.withColumn('artist_in', regexp_extract('artist_name', \"^[ㄱ-ㅎ가-힣\\\\s]*$\", 0 ))\n",
    "df_1.show()"
   ]
  },
  {
   "cell_type": "code",
   "execution_count": 156,
   "metadata": {},
   "outputs": [
    {
     "name": "stdout",
     "output_type": "stream",
     "text": [
      "+----------------+---------+\n",
      "|     artist_name|artist_in|\n",
      "+----------------+---------+\n",
      "|TWICE (트와이스)|         |\n",
      "|            MC몽|         |\n",
      "|      가비엔제이|         |\n",
      "|             109|      109|\n",
      "|     The Beatles|         |\n",
      "|              @@|         |\n",
      "|      몬스타엑스|         |\n",
      "|  태연 (TAEYEON)|         |\n",
      "|     테스트 (abc|         |\n",
      "+----------------+---------+\n",
      "\n"
     ]
    }
   ],
   "source": [
    "# 숫자로만 구성  (\\\\s 는 안에 띄어쓰기가 있어도 추출)\n",
    "df_1 = artist_df_name.withColumn('artist_in', regexp_extract('artist_name', \"^[0-9\\\\s]*$\", 0 ))\n",
    "df_1.show()"
   ]
  },
  {
   "cell_type": "code",
   "execution_count": 151,
   "metadata": {},
   "outputs": [
    {
     "name": "stdout",
     "output_type": "stream",
     "text": [
      "+----------------+-----------+\n",
      "|     artist_name|  artist_in|\n",
      "+----------------+-----------+\n",
      "|TWICE (트와이스)|           |\n",
      "|            MC몽|           |\n",
      "|      가비엔제이|           |\n",
      "|             109|           |\n",
      "|     The Beatles|The Beatles|\n",
      "|              @@|           |\n",
      "|      몬스타엑스|           |\n",
      "|  태연 (TAEYEON)|           |\n",
      "|     테스트 (abc|           |\n",
      "+----------------+-----------+\n",
      "\n"
     ]
    }
   ],
   "source": [
    "# 영어로만 구성  (\\\\s 는 안에 띄어쓰기가 있어도 추출)\n",
    "df_1 = artist_df_name.withColumn('artist_in', regexp_extract('artist_name', \"^[a-zA-Z\\\\s]*$\", 0 ))\n",
    "df_1.show()"
   ]
  },
  {
   "cell_type": "code",
   "execution_count": 159,
   "metadata": {},
   "outputs": [
    {
     "name": "stdout",
     "output_type": "stream",
     "text": [
      "+----------------+----------+\n",
      "|     artist_name| artist_in|\n",
      "+----------------+----------+\n",
      "|TWICE (트와이스)|          |\n",
      "|            MC몽|          |\n",
      "|      가비엔제이|가비엔제이|\n",
      "|             109|          |\n",
      "|     The Beatles|          |\n",
      "|              @@|        @@|\n",
      "|      몬스타엑스|몬스타엑스|\n",
      "|  태연 (TAEYEON)|          |\n",
      "|     테스트 (abc|          |\n",
      "+----------------+----------+\n",
      "\n"
     ]
    }
   ],
   "source": [
    "# 특수문자로만 구성  (\\W 는 문자+숫자가 아닌 특수문자+공백 추출임)\n",
    "df_1 = artist_df_name.withColumn('artist_in', regexp_extract('artist_name', \"^[\\W]*$\", 0 ))\n",
    "df_1.show()"
   ]
  },
  {
   "cell_type": "code",
   "execution_count": 162,
   "metadata": {},
   "outputs": [
    {
     "name": "stdout",
     "output_type": "stream",
     "text": [
      "+----------------+----------+\n",
      "|     artist_name| artist_in|\n",
      "+----------------+----------+\n",
      "|TWICE (트와이스)|          |\n",
      "|            MC몽|      MC몽|\n",
      "|      가비엔제이|가비엔제이|\n",
      "|             109|          |\n",
      "|     The Beatles|          |\n",
      "|              @@|          |\n",
      "|      몬스타엑스|몬스타엑스|\n",
      "|  태연 (TAEYEON)|          |\n",
      "|     테스트 (abc|          |\n",
      "+----------------+----------+\n",
      "\n"
     ]
    }
   ],
   "source": [
    "# 영어 or 한글 or 영어+한글로 되어있는 글자만 추출(영+한+특수문자는 안됨.)\n",
    "df_1 = artist_df_name.withColumn('artist_in', regexp_extract('artist_name', \"^[가-힣ㄱ-ㅎA-Za-z]*$\", 0 ))\n",
    "df_1.show()"
   ]
  },
  {
   "cell_type": "code",
   "execution_count": 166,
   "metadata": {},
   "outputs": [
    {
     "name": "stdout",
     "output_type": "stream",
     "text": [
      "+----------------+----------+\n",
      "|     artist_name| artist_in|\n",
      "+----------------+----------+\n",
      "|TWICE (트와이스)|          |\n",
      "|            MC몽|      MC몽|\n",
      "|      가비엔제이|가비엔제이|\n",
      "|             109|          |\n",
      "|     The Beatles|          |\n",
      "|              @@|          |\n",
      "|      몬스타엑스|몬스타엑스|\n",
      "|  태연 (TAEYEON)|          |\n",
      "|     테스트 (abc|          |\n",
      "+----------------+----------+\n",
      "\n"
     ]
    }
   ],
   "source": [
    "# 영어+한글로 되어있는 글자만 추출(영+한+특수문자는 안됨.)\n",
    "df_1 = artist_df_name.withColumn('artist_in', regexp_extract('artist_name', \"^(^[가-힣ㄱ-ㅎA-Za-z]*$)\", 0 ))\n",
    "df_1.show()"
   ]
  },
  {
   "cell_type": "code",
   "execution_count": 171,
   "metadata": {},
   "outputs": [
    {
     "name": "stdout",
     "output_type": "stream",
     "text": [
      "+----------------+-----------+\n",
      "|     artist_name|  artist_in|\n",
      "+----------------+-----------+\n",
      "|TWICE (트와이스)|           |\n",
      "|            MC몽|           |\n",
      "|      가비엔제이|           |\n",
      "|             109|        109|\n",
      "|     The Beatles|The Beatles|\n",
      "|              @@|         @@|\n",
      "|      몬스타엑스|           |\n",
      "|  태연 (TAEYEON)|           |\n",
      "|     테스트 (abc|           |\n",
      "+----------------+-----------+\n",
      "\n"
     ]
    }
   ],
   "source": [
    "# 한글이 안들어 있는 데이터\n",
    "df_1 = artist_df_name.withColumn('artist_in', regexp_extract('artist_name', \"^[^가-힣]*$\", 0 ))\n",
    "df_1.show()"
   ]
  },
  {
   "cell_type": "code",
   "execution_count": 184,
   "metadata": {},
   "outputs": [
    {
     "name": "stdout",
     "output_type": "stream",
     "text": [
      "+----------------+---------+\n",
      "|     artist_name|artist_in|\n",
      "+----------------+---------+\n",
      "|TWICE (트와이스)|         |\n",
      "|            MC몽|         |\n",
      "|      가비엔제이|         |\n",
      "|             109|         |\n",
      "|              @@|         |\n",
      "|      몬스타엑스|         |\n",
      "|  태연 (TAEYEON)|         |\n",
      "|     테스트 (abc|         |\n",
      "+----------------+---------+\n",
      "\n"
     ]
    }
   ],
   "source": [
    "# 영어만으로 이뤄진거 제거\n",
    "df_1 = artist_df_name.withColumn('artist_in', regexp_extract('artist_name', \"^[a-zA-Z\\\\s]*$\", 0 ))\n",
    "df_1.where(df_1.artist_in == '').show()"
   ]
  },
  {
   "cell_type": "code",
   "execution_count": 208,
   "metadata": {},
   "outputs": [],
   "source": [
    "# 두개의 칼럼 하나의 열로 합치기(빈값 제거, distinct로 중복 제거)\n",
    "unionDF = df_1.select(\"artist_name\").where(df_1.artist_name != '').union(artist_df_name).where(df_1.artist_name != '').distinct()"
   ]
  },
  {
   "cell_type": "code",
   "execution_count": 209,
   "metadata": {},
   "outputs": [
    {
     "name": "stdout",
     "output_type": "stream",
     "text": [
      "+----------------+\n",
      "|     artist_name|\n",
      "+----------------+\n",
      "|      몬스타엑스|\n",
      "|TWICE (트와이스)|\n",
      "|      가비엔제이|\n",
      "|              @@|\n",
      "|            MC몽|\n",
      "|     테스트 (abc|\n",
      "|  태연 (TAEYEON)|\n",
      "|     The Beatles|\n",
      "|             109|\n",
      "+----------------+\n",
      "\n"
     ]
    }
   ],
   "source": [
    "unionDF.show()"
   ]
  },
  {
   "cell_type": "code",
   "execution_count": 211,
   "metadata": {},
   "outputs": [],
   "source": [
    "# 데이터 출력\n",
    "unionDF.coalesce(1).write.format(\"com.databricks.spark.csv\").option(\"header\", \"false\").save(\"artist_all.csv\")"
   ]
  },
  {
   "cell_type": "code",
   "execution_count": 213,
   "metadata": {},
   "outputs": [
    {
     "name": "stdout",
     "output_type": "stream",
     "text": [
      "+---------------+-----------+\n",
      "|    artist_name|  artist_in|\n",
      "+---------------+-----------+\n",
      "|TWICE(트와이스)|           |\n",
      "|           MC몽|           |\n",
      "|     가비엔제이|           |\n",
      "|            109|           |\n",
      "|     TheBeatles|The Beatles|\n",
      "|             @@|           |\n",
      "|     몬스타엑스|           |\n",
      "|  태연(TAEYEON)|           |\n",
      "|     테스트(abc|           |\n",
      "+---------------+-----------+\n",
      "\n"
     ]
    }
   ],
   "source": [
    "# 공백 제거\n",
    "df_3 = df_1.withColumn('artist_name', regexp_replace('artist_name', \" \",\"\"))\n",
    "df_3.show()"
   ]
  },
  {
   "cell_type": "markdown",
   "metadata": {},
   "source": [
    "### 검색어 데이터"
   ]
  },
  {
   "cell_type": "code",
   "execution_count": 297,
   "metadata": {},
   "outputs": [
    {
     "name": "stdout",
     "output_type": "stream",
     "text": [
      "+----------------+-------------------------------+\n",
      "|     artist_name|                    search_word|\n",
      "+----------------+-------------------------------+\n",
      "|TWICE (트와이스)|트와이스|트둥이|트 와이 스|T...|\n",
      "|            MC몽|           원숭이|MC 몽|엠씨몽||\n",
      "|             109|               일공구|10구|일09|\n",
      "|     The Beatles|                 비틀즈|Beatles|\n",
      "|              @@|                     골뱅이|@두|\n",
      "|      몬스타엑스| 몬스타X|몬스타 엑스|몬스터엑스|\n",
      "|  태연 (TAEYEON)|                   태연|TAEYEON|\n",
      "|     테스트 (abc|                     테스트|abc|\n",
      "+----------------+-------------------------------+\n",
      "\n"
     ]
    }
   ],
   "source": [
    "# 검색어 데이터 읽기 (검색어 데이터가 있는 경우 에만 데이터 만들기)\n",
    "artist_df_search = artist_df.where((artist_df.search_word != '') & (artist_df.search_word.isNotNull()))\n",
    "artist_df_search.show()"
   ]
  },
  {
   "cell_type": "code",
   "execution_count": 298,
   "metadata": {},
   "outputs": [
    {
     "name": "stdout",
     "output_type": "stream",
     "text": [
      "+---------------+------------------------------+\n",
      "|    artist_name|                   search_word|\n",
      "+---------------+------------------------------+\n",
      "|TWICE(트와이스)|트와이스|트둥이|트와이스|TWICE|\n",
      "|           MC몽|           원숭이|MC몽|엠씨몽||\n",
      "|            109|              일공구|10구|일09|\n",
      "|     TheBeatles|                비틀즈|Beatles|\n",
      "|             @@|                    골뱅이|@두|\n",
      "|     몬스타엑스| 몬스타X|몬스타엑스|몬스터엑스|\n",
      "|  태연(TAEYEON)|                  태연|TAEYEON|\n",
      "|     테스트(abc|                    테스트|abc|\n",
      "+---------------+------------------------------+\n",
      "\n"
     ]
    }
   ],
   "source": [
    "# 공백제거\n",
    "artist_df_search = artist_df_search.withColumn('artist_name', regexp_replace('artist_name', \" \",\"\"))\n",
    "artist_df_search = artist_df_search.withColumn('search_word', regexp_replace('search_word', \" \",\"\"))\n",
    "artist_df_search.show()"
   ]
  },
  {
   "cell_type": "code",
   "execution_count": 299,
   "metadata": {},
   "outputs": [
    {
     "name": "stdout",
     "output_type": "stream",
     "text": [
      "+---------------+------------------------------+---------+\n",
      "|    artist_name|                   search_word|artist_in|\n",
      "+---------------+------------------------------+---------+\n",
      "|TWICE(트와이스)|트와이스|트둥이|트와이스|TWICE| 트와이스|\n",
      "|           MC몽|           원숭이|MC몽|엠씨몽||         |\n",
      "|            109|              일공구|10구|일09|         |\n",
      "|     TheBeatles|                비틀즈|Beatles|         |\n",
      "|             @@|                    골뱅이|@두|         |\n",
      "|     몬스타엑스| 몬스타X|몬스타엑스|몬스터엑스|         |\n",
      "|  태연(TAEYEON)|                  태연|TAEYEON|  TAEYEON|\n",
      "|     테스트(abc|                    테스트|abc|         |\n",
      "+---------------+------------------------------+---------+\n",
      "\n"
     ]
    }
   ],
   "source": [
    "# 괄호가 있는경우 ()안에 텍스트만 추출\n",
    "artist_df_search = artist_df_search.withColumn('artist_in', regexp_extract('artist_name', \"\\(.+?\\)\" , 0 ))\n",
    "artist_df_search = artist_df_search.withColumn('artist_in', regexp_replace('artist_in', \"\\(\",\"\"))\n",
    "artist_df_search = artist_df_search.withColumn('artist_in', regexp_replace('artist_in', \"\\)\",\"\"))\n",
    "artist_df_search.show()"
   ]
  },
  {
   "cell_type": "code",
   "execution_count": 300,
   "metadata": {},
   "outputs": [
    {
     "name": "stdout",
     "output_type": "stream",
     "text": [
      "+---------------+------------------------------+---------+----------+\n",
      "|    artist_name|                   search_word|artist_in|artist_kor|\n",
      "+---------------+------------------------------+---------+----------+\n",
      "|TWICE(트와이스)|트와이스|트둥이|트와이스|TWICE| 트와이스|  트와이스|\n",
      "|           MC몽|           원숭이|MC몽|엠씨몽||         |        몽|\n",
      "|            109|              일공구|10구|일09|         |          |\n",
      "|     TheBeatles|                비틀즈|Beatles|         |          |\n",
      "|             @@|                    골뱅이|@두|         |          |\n",
      "|     몬스타엑스| 몬스타X|몬스타엑스|몬스터엑스|         |몬스타엑스|\n",
      "|  태연(TAEYEON)|                  태연|TAEYEON|  TAEYEON|      태연|\n",
      "|     테스트(abc|                    테스트|abc|         |    테스트|\n",
      "+---------------+------------------------------+---------+----------+\n",
      "\n"
     ]
    }
   ],
   "source": [
    "# 한글이 포함된 글자만 추출\n",
    "artist_df_search = artist_df_search.withColumn('artist_kor', regexp_extract('artist_name', \"[ㄱ-ㅎ가-힣]+\", 0 ))\n",
    "artist_df_search.show()"
   ]
  },
  {
   "cell_type": "code",
   "execution_count": 301,
   "metadata": {},
   "outputs": [
    {
     "name": "stdout",
     "output_type": "stream",
     "text": [
      "+---------------+------------------------------+---------+----------+---+\n",
      "|    artist_name|                   search_word|artist_in|artist_kor|sep|\n",
      "+---------------+------------------------------+---------+----------+---+\n",
      "|TWICE(트와이스)|트와이스|트둥이|트와이스|TWICE| 트와이스|  트와이스|  ||\n",
      "|           MC몽|           원숭이|MC몽|엠씨몽||         |        몽|  ||\n",
      "|            109|              일공구|10구|일09|         |          |  ||\n",
      "|     TheBeatles|                비틀즈|Beatles|         |          |  ||\n",
      "|             @@|                    골뱅이|@두|         |          |  ||\n",
      "|     몬스타엑스| 몬스타X|몬스타엑스|몬스터엑스|         |몬스타엑스|  ||\n",
      "|  태연(TAEYEON)|                  태연|TAEYEON|  TAEYEON|      태연|  ||\n",
      "|     테스트(abc|                    테스트|abc|         |    테스트|  ||\n",
      "+---------------+------------------------------+---------+----------+---+\n",
      "\n"
     ]
    }
   ],
   "source": [
    "# 구분자 칼럼 추가 \n",
    "artist_df_search = artist_df_search.withColumn('sep',lit(\"|\"))\n",
    "artist_df_search.show()"
   ]
  },
  {
   "cell_type": "code",
   "execution_count": 302,
   "metadata": {},
   "outputs": [
    {
     "name": "stdout",
     "output_type": "stream",
     "text": [
      "+---------------------------------+\n",
      "|                    artist_concat|\n",
      "+---------------------------------+\n",
      "|     TWICE(트와이스)|트와이스|...|\n",
      "|         MC몽|원숭이|MC몽|엠씨몽||\n",
      "|             109|일공구|10구|일09|\n",
      "|          TheBeatles|비틀즈|Be...|\n",
      "|                    @@|골뱅이|@두|\n",
      "|몬스타엑스|몬스타X|몬스타엑스|...|\n",
      "|         태연(TAEYEON)|태연|TA...|\n",
      "|            테스트(abc|테스트|abc|\n",
      "+---------------------------------+\n",
      "\n"
     ]
    }
   ],
   "source": [
    "# 뒤에 아티스트명 붙이기\n",
    "artist_df_search = artist_df_search.withColumn('artist_concat', concat(\"artist_name\",\"sep\",\"search_word\"))\n",
    "artist_df_search.select(\"artist_concat\").show()"
   ]
  },
  {
   "cell_type": "code",
   "execution_count": 307,
   "metadata": {},
   "outputs": [],
   "source": [
    "# 행기준 중복 데이터 제거"
   ]
  },
  {
   "cell_type": "code",
   "execution_count": 309,
   "metadata": {},
   "outputs": [
    {
     "name": "stdout",
     "output_type": "stream",
     "text": [
      "+---------------------------------+\n",
      "|                    artist_concat|\n",
      "+---------------------------------+\n",
      "|     TWICE(트와이스),트와이스,...|\n",
      "|         MC몽,원숭이,MC몽,엠씨몽,|\n",
      "|             109,일공구,10구,일09|\n",
      "|          TheBeatles,비틀즈,Be...|\n",
      "|                    @@,골뱅이,@두|\n",
      "|몬스타엑스,몬스타X,몬스타엑스,...|\n",
      "|         태연(TAEYEON),태연,TA...|\n",
      "|            테스트(abc,테스트,abc|\n",
      "+---------------------------------+\n",
      "\n"
     ]
    }
   ],
   "source": [
    "# 검색어 데이터 '|' 기준 ,로 변경하여 붙이기\n",
    "artist_df_search = artist_df_search.withColumn('artist_concat', regexp_replace('artist_concat', \"\\|\",\"\\,\"))\n",
    "artist_df_search.select(\"artist_concat\").show()"
   ]
  },
  {
   "cell_type": "code",
   "execution_count": 214,
   "metadata": {},
   "outputs": [],
   "source": [
    "# 파일로 떨구기"
   ]
  }
 ],
 "metadata": {
  "kernelspec": {
   "display_name": "Python 3",
   "language": "python",
   "name": "python3"
  },
  "language_info": {
   "codemirror_mode": {
    "name": "ipython",
    "version": 3
   },
   "file_extension": ".py",
   "mimetype": "text/x-python",
   "name": "python",
   "nbconvert_exporter": "python",
   "pygments_lexer": "ipython3",
   "version": "3.7.9"
  }
 },
 "nbformat": 4,
 "nbformat_minor": 4
}
