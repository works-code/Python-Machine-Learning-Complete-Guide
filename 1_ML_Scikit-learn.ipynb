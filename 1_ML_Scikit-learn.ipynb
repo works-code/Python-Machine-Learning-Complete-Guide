{
 "cells": [
  {
   "cell_type": "markdown",
   "metadata": {},
   "source": [
    "## 붖꽃 품종 예측하기\n",
    "- datasets : 붖꽃 데이터 세트(load_iris) 가져오기 위한 라이브러리\n",
    "- tree : 학습 모듈 (DecisionTree : 의사 결정 트리)\n",
    "- train_test_split : 데이터 분리를 위한 함수\n",
    "- pandas : 데이터 핸들링을 위한 라이브러리\n",
    "- accuracy_score : 정확도 측정을 위한 함수"
   ]
  },
  {
   "cell_type": "code",
   "execution_count": 1,
   "metadata": {},
   "outputs": [],
   "source": [
    "from sklearn.datasets import load_iris\n",
    "from sklearn.tree import DecisionTreeClassifier\n",
    "from sklearn.model_selection import train_test_split\n",
    "from sklearn.metrics import accuracy_score\n",
    "import pandas as pd"
   ]
  },
  {
   "cell_type": "code",
   "execution_count": 2,
   "metadata": {},
   "outputs": [],
   "source": [
    "# 붖꽃 데이터 세트 로딩 \n",
    "iris = load_iris()"
   ]
  },
  {
   "cell_type": "code",
   "execution_count": 3,
   "metadata": {},
   "outputs": [],
   "source": [
    "# 붖꽃 데이터 세트중 피처만으로 되어있는 데이터를 가져옴\n",
    "iris_data = iris.data"
   ]
  },
  {
   "cell_type": "code",
   "execution_count": 4,
   "metadata": {},
   "outputs": [
    {
     "name": "stdout",
     "output_type": "stream",
     "text": [
      "iris target값 : [0 0 0 0 0 0 0 0 0 0 0 0 0 0 0 0 0 0 0 0 0 0 0 0 0 0 0 0 0 0 0 0 0 0 0 0 0\n",
      " 0 0 0 0 0 0 0 0 0 0 0 0 0 1 1 1 1 1 1 1 1 1 1 1 1 1 1 1 1 1 1 1 1 1 1 1 1\n",
      " 1 1 1 1 1 1 1 1 1 1 1 1 1 1 1 1 1 1 1 1 1 1 1 1 1 1 2 2 2 2 2 2 2 2 2 2 2\n",
      " 2 2 2 2 2 2 2 2 2 2 2 2 2 2 2 2 2 2 2 2 2 2 2 2 2 2 2 2 2 2 2 2 2 2 2 2 2\n",
      " 2 2]\n",
      "iris target명 : ['setosa' 'versicolor' 'virginica']\n"
     ]
    }
   ],
   "source": [
    "# 데이터 확인\n",
    "iris_label = iris.target\n",
    "print('iris target값 : {}'.format(iris_label))\n",
    "print('iris target명 : {}'.format(iris.target_names))"
   ]
  },
  {
   "cell_type": "code",
   "execution_count": 5,
   "metadata": {},
   "outputs": [
    {
     "data": {
      "text/html": [
       "<div>\n",
       "<style scoped>\n",
       "    .dataframe tbody tr th:only-of-type {\n",
       "        vertical-align: middle;\n",
       "    }\n",
       "\n",
       "    .dataframe tbody tr th {\n",
       "        vertical-align: top;\n",
       "    }\n",
       "\n",
       "    .dataframe thead th {\n",
       "        text-align: right;\n",
       "    }\n",
       "</style>\n",
       "<table border=\"1\" class=\"dataframe\">\n",
       "  <thead>\n",
       "    <tr style=\"text-align: right;\">\n",
       "      <th></th>\n",
       "      <th>sepal length (cm)</th>\n",
       "      <th>sepal width (cm)</th>\n",
       "      <th>petal length (cm)</th>\n",
       "      <th>petal width (cm)</th>\n",
       "      <th>label</th>\n",
       "    </tr>\n",
       "  </thead>\n",
       "  <tbody>\n",
       "    <tr>\n",
       "      <th>0</th>\n",
       "      <td>5.1</td>\n",
       "      <td>3.5</td>\n",
       "      <td>1.4</td>\n",
       "      <td>0.2</td>\n",
       "      <td>0</td>\n",
       "    </tr>\n",
       "    <tr>\n",
       "      <th>1</th>\n",
       "      <td>4.9</td>\n",
       "      <td>3.0</td>\n",
       "      <td>1.4</td>\n",
       "      <td>0.2</td>\n",
       "      <td>0</td>\n",
       "    </tr>\n",
       "    <tr>\n",
       "      <th>2</th>\n",
       "      <td>4.7</td>\n",
       "      <td>3.2</td>\n",
       "      <td>1.3</td>\n",
       "      <td>0.2</td>\n",
       "      <td>0</td>\n",
       "    </tr>\n",
       "    <tr>\n",
       "      <th>3</th>\n",
       "      <td>4.6</td>\n",
       "      <td>3.1</td>\n",
       "      <td>1.5</td>\n",
       "      <td>0.2</td>\n",
       "      <td>0</td>\n",
       "    </tr>\n",
       "    <tr>\n",
       "      <th>4</th>\n",
       "      <td>5.0</td>\n",
       "      <td>3.6</td>\n",
       "      <td>1.4</td>\n",
       "      <td>0.2</td>\n",
       "      <td>0</td>\n",
       "    </tr>\n",
       "  </tbody>\n",
       "</table>\n",
       "</div>"
      ],
      "text/plain": [
       "   sepal length (cm)  sepal width (cm)  petal length (cm)  petal width (cm)  \\\n",
       "0                5.1               3.5                1.4               0.2   \n",
       "1                4.9               3.0                1.4               0.2   \n",
       "2                4.7               3.2                1.3               0.2   \n",
       "3                4.6               3.1                1.5               0.2   \n",
       "4                5.0               3.6                1.4               0.2   \n",
       "\n",
       "   label  \n",
       "0      0  \n",
       "1      0  \n",
       "2      0  \n",
       "3      0  \n",
       "4      0  "
      ]
     },
     "execution_count": 5,
     "metadata": {},
     "output_type": "execute_result"
    }
   ],
   "source": [
    "# 데이터 세트를 dataframe 으로 변경\n",
    "# label 은 품종으로 0, 1, 2 로 구성되어 있음\n",
    "iris_df = pd.DataFrame(data=iris_data, columns=iris.feature_names)\n",
    "iris_df['label'] = iris.target\n",
    "iris_df.head(5)"
   ]
  },
  {
   "cell_type": "code",
   "execution_count": 6,
   "metadata": {},
   "outputs": [],
   "source": [
    "# 데이터 분리 \n",
    "# test_size=0.2 : 테스트 20%, 학습데이터 80% (default : 0.25)\n",
    "# random_state=11 : 랜덤한 세트로 분리하기 위한 시드값 (시드값을 지정해주지 않으면 실행시마다 다른 세트로 나올수 있으며 11은 큰 의미 없으므로 다른 숫자를 넣어도 됨) \n",
    "# shuffle : 데이터를 분리하기전 미리 섞을 것인지 : (default: true)\n",
    "x_train, x_test , y_train , y_test = train_test_split(iris_data, iris_label, test_size=0.2, random_state=11, shuffle=True)"
   ]
  },
  {
   "cell_type": "code",
   "execution_count": 7,
   "metadata": {},
   "outputs": [],
   "source": [
    "# 트리 생성\n",
    "dt_class = DecisionTreeClassifier(random_state=11)"
   ]
  },
  {
   "cell_type": "code",
   "execution_count": 8,
   "metadata": {},
   "outputs": [
    {
     "data": {
      "text/plain": [
       "DecisionTreeClassifier(random_state=11)"
      ]
     },
     "execution_count": 8,
     "metadata": {},
     "output_type": "execute_result"
    }
   ],
   "source": [
    "# 학습 수행\n",
    "dt_class.fit(x_train, y_train)"
   ]
  },
  {
   "cell_type": "code",
   "execution_count": 9,
   "metadata": {},
   "outputs": [],
   "source": [
    "# 학습 완료된 객체에서 테스트 데이터 세트로 예측 수행\n",
    "pred = dt_class.predict(x_test)"
   ]
  },
  {
   "cell_type": "code",
   "execution_count": 10,
   "metadata": {},
   "outputs": [
    {
     "name": "stdout",
     "output_type": "stream",
     "text": [
      "정확도 : 0.9333\n"
     ]
    }
   ],
   "source": [
    "# 정확도 출력 : 93%\n",
    "print('정확도 : {0:.4f}'.format(accuracy_score(y_test, pred)))"
   ]
  },
  {
   "cell_type": "markdown",
   "metadata": {},
   "source": [
    "## 교차검증\n",
    "### 1) K 폴드 교차 검증"
   ]
  },
  {
   "cell_type": "code",
   "execution_count": 11,
   "metadata": {},
   "outputs": [],
   "source": [
    "from sklearn.model_selection import KFold\n",
    "import numpy as np"
   ]
  },
  {
   "cell_type": "code",
   "execution_count": 12,
   "metadata": {},
   "outputs": [],
   "source": [
    "iris = load_iris()\n",
    "features = iris.data # 입력 데이터\n",
    "label = iris.target # 정답 데이터\n",
    "dt_class = DecisionTreeClassifier(random_state=156)"
   ]
  },
  {
   "cell_type": "code",
   "execution_count": 13,
   "metadata": {},
   "outputs": [
    {
     "name": "stdout",
     "output_type": "stream",
     "text": [
      "붖꽃 데이터 세트 크기 :  150\n"
     ]
    }
   ],
   "source": [
    "# K 폴드 선언\n",
    "kfold = KFold(n_splits=5)\n",
    "cv_accuracy = []\n",
    "print('붖꽃 데이터 세트 크기 : ', features.shape[0])"
   ]
  },
  {
   "cell_type": "code",
   "execution_count": 38,
   "metadata": {},
   "outputs": [
    {
     "name": "stdout",
     "output_type": "stream",
     "text": [
      "[1] 번째 교차 검증\n",
      "- 교차 검증 정확도 : 0.0, 학습 데이터 크기 : 100, 검증 데이터 크기 : 50\n",
      "- 검증 인덱스 : [ 0  1  2  3  4  5  6  7  8  9 10 11 12 13 14 15 16 17 18 19 20 21 22 23\n",
      " 24 25 26 27 28 29 30 31 32 33 34 35 36 37 38 39 40 41 42 43 44 45 46 47\n",
      " 48 49]\n",
      "----------------------------------------------------------------------\n",
      "[2] 번째 교차 검증\n",
      "- 교차 검증 정확도 : 0.0, 학습 데이터 크기 : 100, 검증 데이터 크기 : 50\n",
      "- 검증 인덱스 : [50 51 52 53 54 55 56 57 58 59 60 61 62 63 64 65 66 67 68 69 70 71 72 73\n",
      " 74 75 76 77 78 79 80 81 82 83 84 85 86 87 88 89 90 91 92 93 94 95 96 97\n",
      " 98 99]\n",
      "----------------------------------------------------------------------\n",
      "[3] 번째 교차 검증\n",
      "- 교차 검증 정확도 : 0.0, 학습 데이터 크기 : 100, 검증 데이터 크기 : 50\n",
      "- 검증 인덱스 : [100 101 102 103 104 105 106 107 108 109 110 111 112 113 114 115 116 117\n",
      " 118 119 120 121 122 123 124 125 126 127 128 129 130 131 132 133 134 135\n",
      " 136 137 138 139 140 141 142 143 144 145 146 147 148 149]\n",
      "----------------------------------------------------------------------\n"
     ]
    }
   ],
   "source": [
    "n_iter = 0\n",
    "# Kfold 의 split 함수 호출시 index 반환\n",
    "for train_index, test_index in kfold.split(features):\n",
    "    x_train, x_test = features[train_index], features[test_index]\n",
    "    y_train, y_test = label[train_index], label[test_index]\n",
    "    #학습 및 예측\n",
    "    dt_class.fit(x_train, y_train)\n",
    "    pred = dt_class.predict(x_test)\n",
    "    n_iter+=1\n",
    "    #정확도 측정\n",
    "    accuracy = np.round(accuracy_score(y_test, pred), 4)\n",
    "    train_size = x_train.shape[0]\n",
    "    test_size = x_test.shape[0]\n",
    "    print(\"[{0}] 번째 교차 검증\".format(n_iter))\n",
    "    print('- 교차 검증 정확도 : {0}, 학습 데이터 크기 : {1}, 검증 데이터 크기 : {2}'.format(accuracy, train_size, test_size))\n",
    "    print('- 검증 인덱스 : {0}'.format(test_index))\n",
    "    print(\"----------------------------------------------------------------------\")\n",
    "    cv_accuracy.append(accuracy)"
   ]
  },
  {
   "cell_type": "code",
   "execution_count": 15,
   "metadata": {},
   "outputs": [
    {
     "name": "stdout",
     "output_type": "stream",
     "text": [
      "검증 정확도 : 0.9\n"
     ]
    }
   ],
   "source": [
    "# 정확도 : K개 검증 평균 => 90%\n",
    "print(\"검증 정확도 : {}\".format(np.mean(cv_accuracy)))"
   ]
  },
  {
   "cell_type": "markdown",
   "metadata": {},
   "source": [
    "### 2) stratified K 폴드\n",
    "- 데이터가 편향되어 분배되는 것을 방지하기 위한 방법"
   ]
  },
  {
   "cell_type": "code",
   "execution_count": 16,
   "metadata": {},
   "outputs": [],
   "source": [
    "from sklearn.model_selection import StratifiedKFold\n",
    "import numpy as np"
   ]
  },
  {
   "cell_type": "code",
   "execution_count": 17,
   "metadata": {},
   "outputs": [],
   "source": [
    "iris = load_iris()\n",
    "features = iris.data # 입력 데이터\n",
    "label = iris.target # 정답 데이터\n",
    "dt_class = DecisionTreeClassifier(random_state=156)"
   ]
  },
  {
   "cell_type": "code",
   "execution_count": 18,
   "metadata": {},
   "outputs": [
    {
     "name": "stdout",
     "output_type": "stream",
     "text": [
      "붖꽃 데이터 세트 크기 :  150\n"
     ]
    }
   ],
   "source": [
    "# K 폴드 선언\n",
    "skfold = StratifiedKFold(n_splits=5)\n",
    "cv_accuracy = []\n",
    "print('붖꽃 데이터 세트 크기 : ', features.shape[0])"
   ]
  },
  {
   "cell_type": "code",
   "execution_count": 37,
   "metadata": {},
   "outputs": [
    {
     "name": "stdout",
     "output_type": "stream",
     "text": [
      "[1] 번째 교차 검증\n",
      "- 교차 검증 정확도 : 0.98, 학습 데이터 크기 : 100, 검증 데이터 크기 : 50\n",
      "- 검증 인덱스 : [  0   1   2   3   4   5   6   7   8   9  10  11  12  13  14  15  16  50\n",
      "  51  52  53  54  55  56  57  58  59  60  61  62  63  64  65  66 100 101\n",
      " 102 103 104 105 106 107 108 109 110 111 112 113 114 115]\n",
      "----------------------------------------------------------------------\n",
      "[2] 번째 교차 검증\n",
      "- 교차 검증 정확도 : 0.94, 학습 데이터 크기 : 100, 검증 데이터 크기 : 50\n",
      "- 검증 인덱스 : [ 17  18  19  20  21  22  23  24  25  26  27  28  29  30  31  32  33  67\n",
      "  68  69  70  71  72  73  74  75  76  77  78  79  80  81  82 116 117 118\n",
      " 119 120 121 122 123 124 125 126 127 128 129 130 131 132]\n",
      "----------------------------------------------------------------------\n",
      "[3] 번째 교차 검증\n",
      "- 교차 검증 정확도 : 0.98, 학습 데이터 크기 : 100, 검증 데이터 크기 : 50\n",
      "- 검증 인덱스 : [ 34  35  36  37  38  39  40  41  42  43  44  45  46  47  48  49  83  84\n",
      "  85  86  87  88  89  90  91  92  93  94  95  96  97  98  99 133 134 135\n",
      " 136 137 138 139 140 141 142 143 144 145 146 147 148 149]\n",
      "----------------------------------------------------------------------\n"
     ]
    }
   ],
   "source": [
    "n_iter = 0\n",
    "# Kfold 의 split 함수 호출시 index 반환\n",
    "for train_index, test_index in skfold.split(features, label):\n",
    "    x_train, x_test = features[train_index], features[test_index]\n",
    "    y_train, y_test = label[train_index], label[test_index]\n",
    "    #학습 및 예측\n",
    "    dt_class.fit(x_train, y_train)\n",
    "    pred = dt_class.predict(x_test)\n",
    "    n_iter+=1\n",
    "    #정확도 측정\n",
    "    accuracy = np.round(accuracy_score(y_test, pred), 4)\n",
    "    train_size = x_train.shape[0]\n",
    "    test_size = x_test.shape[0]\n",
    "    print(\"[{0}] 번째 교차 검증\".format(n_iter))\n",
    "    print('- 교차 검증 정확도 : {0}, 학습 데이터 크기 : {1}, 검증 데이터 크기 : {2}'.format(accuracy, train_size, test_size))\n",
    "    print('- 검증 인덱스 : {0}'.format(test_index))\n",
    "    print(\"----------------------------------------------------------------------\")\n",
    "    cv_accuracy.append(accuracy)"
   ]
  },
  {
   "cell_type": "code",
   "execution_count": 20,
   "metadata": {},
   "outputs": [
    {
     "name": "stdout",
     "output_type": "stream",
     "text": [
      "검증 정확도 : 0.9600200000000001\n"
     ]
    }
   ],
   "source": [
    "# 정확도 : K개 검증 평균 => 96%\n",
    "print(\"검증 정확도 : {}\".format(np.mean(cv_accuracy)))"
   ]
  },
  {
   "cell_type": "markdown",
   "metadata": {},
   "source": [
    "### 3) K 폴드 vs stratified K 폴드\n",
    "- 분류에서는 stratified K 폴드를 주로 사용\n",
    "- 회귀에서는 정답 데이터가 연속적인 값이기에 stratified K 폴드를 사용할 수 없다. (input에 정답 데이터를 넣기에)"
   ]
  },
  {
   "cell_type": "code",
   "execution_count": 32,
   "metadata": {},
   "outputs": [
    {
     "name": "stdout",
     "output_type": "stream",
     "text": [
      "[1] 번째 교차 검증\n",
      "- 학습 데이터\n",
      "2    50\n",
      "1    50\n",
      "dtype: int64\n",
      "- 검증 데이터\n",
      "0    50\n",
      "dtype: int64\n",
      "------------------\n",
      "[2] 번째 교차 검증\n",
      "- 학습 데이터\n",
      "2    50\n",
      "0    50\n",
      "dtype: int64\n",
      "- 검증 데이터\n",
      "1    50\n",
      "dtype: int64\n",
      "------------------\n",
      "[3] 번째 교차 검증\n",
      "- 학습 데이터\n",
      "1    50\n",
      "0    50\n",
      "dtype: int64\n",
      "- 검증 데이터\n",
      "2    50\n",
      "dtype: int64\n",
      "------------------\n"
     ]
    }
   ],
   "source": [
    "# K 폴드 방식\n",
    "kfold = KFold(n_splits=3)\n",
    "\n",
    "n_iter = 0\n",
    "for train_index, test_index in kfold.split(features):\n",
    "    y_train, y_test = label[train_index], label[test_index]\n",
    "    n_iter+=1\n",
    "    print(\"[{0}] 번째 교차 검증\".format(n_iter))\n",
    "    print(\"- 학습 데이터\\n{0}\".format(pd.DataFrame(y_train).value_counts()))\n",
    "    print(\"- 검증 데이터\\n{0}\".format(pd.DataFrame(y_test).value_counts()))\n",
    "    print(\"------------------\")"
   ]
  },
  {
   "cell_type": "code",
   "execution_count": 33,
   "metadata": {},
   "outputs": [
    {
     "name": "stdout",
     "output_type": "stream",
     "text": [
      "[1] 번째 교차 검증\n",
      "- 학습 데이터\n",
      "2    34\n",
      "1    33\n",
      "0    33\n",
      "dtype: int64\n",
      "- 검증 데이터\n",
      "1    17\n",
      "0    17\n",
      "2    16\n",
      "dtype: int64\n",
      "------------------\n",
      "[2] 번째 교차 검증\n",
      "- 학습 데이터\n",
      "1    34\n",
      "2    33\n",
      "0    33\n",
      "dtype: int64\n",
      "- 검증 데이터\n",
      "2    17\n",
      "0    17\n",
      "1    16\n",
      "dtype: int64\n",
      "------------------\n",
      "[3] 번째 교차 검증\n",
      "- 학습 데이터\n",
      "0    34\n",
      "2    33\n",
      "1    33\n",
      "dtype: int64\n",
      "- 검증 데이터\n",
      "2    17\n",
      "1    17\n",
      "0    16\n",
      "dtype: int64\n",
      "------------------\n"
     ]
    }
   ],
   "source": [
    "# stratified K 폴드 방식\n",
    "skfold = StratifiedKFold(n_splits=3)\n",
    "\n",
    "n_iter = 0\n",
    "for train_index, test_index in skfold.split(features, label):\n",
    "    y_train, y_test = label[train_index], label[test_index]\n",
    "    n_iter+=1\n",
    "    print(\"[{0}] 번째 교차 검증\".format(n_iter))\n",
    "    print(\"- 학습 데이터\\n{0}\".format(pd.DataFrame(y_train).value_counts()))\n",
    "    print(\"- 검증 데이터\\n{0}\".format(pd.DataFrame(y_test).value_counts()))\n",
    "    print(\"------------------\")"
   ]
  }
 ],
 "metadata": {
  "kernelspec": {
   "display_name": "Python 3",
   "language": "python",
   "name": "python3"
  },
  "language_info": {
   "codemirror_mode": {
    "name": "ipython",
    "version": 3
   },
   "file_extension": ".py",
   "mimetype": "text/x-python",
   "name": "python",
   "nbconvert_exporter": "python",
   "pygments_lexer": "ipython3",
   "version": "3.7.9"
  }
 },
 "nbformat": 4,
 "nbformat_minor": 4
}
